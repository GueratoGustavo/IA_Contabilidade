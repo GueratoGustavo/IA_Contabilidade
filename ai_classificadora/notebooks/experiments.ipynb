{
 "cells": [
  {
   "cell_type": "code",
   "execution_count": 1,
   "id": "839c2755",
   "metadata": {},
   "outputs": [
    {
     "name": "stdout",
     "output_type": "stream",
     "text": [
      "Collecting scikit-learn==1.2.2\n",
      "  Downloading scikit-learn-1.2.2.tar.gz (7.3 MB)\n",
      "     ---------------------------------------- 0.0/7.3 MB ? eta -:--:--\n",
      "     ---------- ----------------------------- 1.8/7.3 MB 10.0 MB/s eta 0:00:01\n",
      "     --------------------- ------------------ 3.9/7.3 MB 11.2 MB/s eta 0:00:01\n",
      "     ---------------------------------- ----- 6.3/7.3 MB 11.0 MB/s eta 0:00:01\n",
      "     ---------------------------------------- 7.3/7.3 MB 10.7 MB/s eta 0:00:00\n",
      "  Installing build dependencies: started\n",
      "  Installing build dependencies: finished with status 'done'\n",
      "  Getting requirements to build wheel: started\n",
      "  Getting requirements to build wheel: finished with status 'done'\n",
      "  Preparing metadata (pyproject.toml): started\n",
      "  Preparing metadata (pyproject.toml): finished with status 'error'\n"
     ]
    },
    {
     "name": "stderr",
     "output_type": "stream",
     "text": [
      "  error: subprocess-exited-with-error\n",
      "  \n",
      "  × Preparing metadata (pyproject.toml) did not run successfully.\n",
      "  │ exit code: 1\n",
      "  ╰─> [33 lines of output]\n",
      "      Partial import of sklearn during the build process.\n",
      "      Traceback (most recent call last):\n",
      "        File \"C:\\Users\\guera\\Documentos\\agente-financeiro\\venv\\Lib\\site-packages\\pip\\_vendor\\pyproject_hooks\\_in_process\\_in_process.py\", line 389, in <module>\n",
      "          main()\n",
      "        File \"C:\\Users\\guera\\Documentos\\agente-financeiro\\venv\\Lib\\site-packages\\pip\\_vendor\\pyproject_hooks\\_in_process\\_in_process.py\", line 373, in main\n",
      "          json_out[\"return_val\"] = hook(**hook_input[\"kwargs\"])\n",
      "                                   ^^^^^^^^^^^^^^^^^^^^^^^^^^^^\n",
      "        File \"C:\\Users\\guera\\Documentos\\agente-financeiro\\venv\\Lib\\site-packages\\pip\\_vendor\\pyproject_hooks\\_in_process\\_in_process.py\", line 175, in prepare_metadata_for_build_wheel\n",
      "          return hook(metadata_directory, config_settings)\n",
      "                 ^^^^^^^^^^^^^^^^^^^^^^^^^^^^^^^^^^^^^^^^^\n",
      "        File \"C:\\Users\\guera\\AppData\\Local\\Temp\\pip-build-env-yqodhcez\\overlay\\Lib\\site-packages\\setuptools\\build_meta.py\", line 374, in prepare_metadata_for_build_wheel\n",
      "          self.run_setup()\n",
      "        File \"C:\\Users\\guera\\AppData\\Local\\Temp\\pip-build-env-yqodhcez\\overlay\\Lib\\site-packages\\setuptools\\build_meta.py\", line 512, in run_setup\n",
      "          super().run_setup(setup_script=setup_script)\n",
      "        File \"C:\\Users\\guera\\AppData\\Local\\Temp\\pip-build-env-yqodhcez\\overlay\\Lib\\site-packages\\setuptools\\build_meta.py\", line 317, in run_setup\n",
      "          exec(code, locals())\n",
      "        File \"<string>\", line 669, in <module>\n",
      "        File \"<string>\", line 663, in setup_package\n",
      "        File \"<string>\", line 597, in configure_extension_modules\n",
      "        File \"C:\\Users\\guera\\AppData\\Local\\Temp\\pip-install-e14znml_\\scikit-learn_57186896819649528cf240b10ed6959f\\sklearn\\_build_utils\\__init__.py\", line 47, in cythonize_extensions\n",
      "          basic_check_build()\n",
      "        File \"C:\\Users\\guera\\AppData\\Local\\Temp\\pip-install-e14znml_\\scikit-learn_57186896819649528cf240b10ed6959f\\sklearn\\_build_utils\\pre_build_helpers.py\", line 82, in basic_check_build\n",
      "          compile_test_program(code)\n",
      "        File \"C:\\Users\\guera\\AppData\\Local\\Temp\\pip-install-e14znml_\\scikit-learn_57186896819649528cf240b10ed6959f\\sklearn\\_build_utils\\pre_build_helpers.py\", line 38, in compile_test_program\n",
      "          ccompiler.compile(\n",
      "        File \"C:\\Users\\guera\\AppData\\Local\\Temp\\pip-build-env-yqodhcez\\overlay\\Lib\\site-packages\\setuptools\\_distutils\\compilers\\C\\msvc.py\", line 384, in compile\n",
      "          self.initialize()\n",
      "        File \"C:\\Users\\guera\\AppData\\Local\\Temp\\pip-build-env-yqodhcez\\overlay\\Lib\\site-packages\\setuptools\\_distutils\\compilers\\C\\msvc.py\", line 294, in initialize\n",
      "          vc_env = _get_vc_env(plat_spec)\n",
      "                   ^^^^^^^^^^^^^^^^^^^^^^\n",
      "        File \"C:\\Users\\guera\\AppData\\Local\\Temp\\pip-build-env-yqodhcez\\overlay\\Lib\\site-packages\\setuptools\\_distutils\\compilers\\C\\msvc.py\", line 155, in _get_vc_env\n",
      "          raise DistutilsPlatformError(\n",
      "      distutils.errors.DistutilsPlatformError: Microsoft Visual C++ 14.0 or greater is required. Get it with \"Microsoft C++ Build Tools\": https://visualstudio.microsoft.com/visual-cpp-build-tools/\n",
      "      [end of output]\n",
      "  \n",
      "  note: This error originates from a subprocess, and is likely not a problem with pip.\n",
      "error: metadata-generation-failed\n",
      "\n",
      "× Encountered error while generating package metadata.\n",
      "╰─> See above for output.\n",
      "\n",
      "note: This is an issue with the package mentioned above, not pip.\n",
      "hint: See above for details.\n"
     ]
    }
   ],
   "source": [
    "!pip install --upgrade scikit-learn==1.2.2 imbalanced-learn==0.10.1 xgboost pandas numpy matplotlib seaborn joblib\n"
   ]
  },
  {
   "cell_type": "code",
   "execution_count": 2,
   "id": "9cd8113c",
   "metadata": {},
   "outputs": [],
   "source": [
    "import pandas as pd\n",
    "import numpy as np\n",
    "import matplotlib.pyplot as plt\n",
    "import seaborn as sns\n",
    "import logging\n",
    "import joblib\n",
    "import sys\n",
    "\n",
    "from sklearn.compose import ColumnTransformer\n",
    "from sklearn.preprocessing import StandardScaler, LabelEncoder\n",
    "from sklearn.model_selection import train_test_split, GridSearchCV\n",
    "from sklearn.metrics import (\n",
    "    classification_report,\n",
    "    accuracy_score,\n",
    "    f1_score,\n",
    "    ConfusionMatrixDisplay,\n",
    ")\n",
    "\n",
    "from imblearn.pipeline import Pipeline  # Pipeline do imblearn para usar SMOTE\n",
    "from imblearn.over_sampling import SMOTE  # SMOTE para balanceamento\n",
    "import xgboost as xgb"
   ]
  },
  {
   "cell_type": "code",
   "execution_count": 3,
   "id": "3943f694",
   "metadata": {},
   "outputs": [
    {
     "name": "stderr",
     "output_type": "stream",
     "text": [
      "[2025-06-26 14:16:13,846] INFO - Python: 3.12.7 | packaged by Anaconda, Inc. | (main, Oct  4 2024, 13:17:27) [MSC v.1929 64 bit (AMD64)]\n",
      "[2025-06-26 14:16:13,847] INFO - scikit-learn: 1.6.1\n",
      "[2025-06-26 14:16:13,849] INFO - imbalanced-learn: 0.13.0\n",
      "[2025-06-26 14:16:13,850] INFO - xgboost: 3.0.2\n"
     ]
    }
   ],
   "source": [
    "logging.basicConfig(\n",
    "    level=logging.INFO, format=\"[%(asctime)s] %(levelname)s - %(message)s\"\n",
    ")\n",
    "logger = logging.getLogger(__name__)\n",
    "logger.info(f\"Python: {sys.version}\")\n",
    "logger.info(f\"scikit-learn: {sys.modules['sklearn'].__version__}\")\n",
    "logger.info(f\"imbalanced-learn: {sys.modules['imblearn'].__version__}\")\n",
    "logger.info(f\"xgboost: {xgb.__version__}\")"
   ]
  },
  {
   "cell_type": "code",
   "execution_count": 15,
   "id": "5c6caabf",
   "metadata": {},
   "outputs": [
    {
     "name": "stderr",
     "output_type": "stream",
     "text": [
      "[2025-06-26 14:38:37,038] INFO - Dataset carregado com 10000 linhas e 20 colunas.\n"
     ]
    }
   ],
   "source": [
    "DATA_PATH = \"../data/processed/training_data.csv\"\n",
    "df = pd.read_csv(DATA_PATH, nrows=10_000)\n",
    "logger.info(f\"Dataset carregado com {df.shape[0]} linhas e {df.shape[1]} colunas.\")"
   ]
  },
  {
   "cell_type": "code",
   "execution_count": 5,
   "id": "ef052d9e",
   "metadata": {},
   "outputs": [],
   "source": [
    "for col in [\"data_emissao\", \"data_vencimento\"]:\n",
    "    df[col] = pd.to_datetime(df[col], errors=\"coerce\")\n",
    "df[\"prazo_dias\"] = (df[\"data_vencimento\"] - df[\"data_emissao\"]).dt.days"
   ]
  },
  {
   "cell_type": "code",
   "execution_count": 6,
   "id": "86e221d4",
   "metadata": {},
   "outputs": [],
   "source": [
    "def extract_text_features(df):\n",
    "    df[\"descricao\"] = df[\"descricao\"].astype(str).fillna(\"\")\n",
    "    df[\"observacao\"] = df[\"observacao\"].astype(str).fillna(\"\")\n",
    "    df[\"tem_nota_fiscal\"] = (\n",
    "        df[\"descricao\"].str.contains(\"nota fiscal\", case=False, na=False).astype(int)\n",
    "    )\n",
    "    df[\"tem_imposto\"] = (\n",
    "        df[\"descricao\"].str.contains(\"imposto\", case=False, na=False).astype(int)\n",
    "    )\n",
    "    df[\"tem_boleto\"] = (\n",
    "        df[\"descricao\"].str.contains(\"boleto\", case=False, na=False).astype(int)\n",
    "    )\n",
    "    df[\"tem_recurso_juridico\"] = (\n",
    "        df[\"observacao\"].str.contains(\"recurso\", case=False, na=False).astype(int)\n",
    "    )\n",
    "    return df\n",
    "\n",
    "df = extract_text_features(df)"
   ]
  },
  {
   "cell_type": "code",
   "execution_count": 7,
   "id": "92d03f4c",
   "metadata": {},
   "outputs": [],
   "source": [
    "TARGET_COL = \"classificacao\"\n",
    "drop_cols = [\n",
    "    \"id\",\n",
    "    \"nome_emissor\",\n",
    "    \"cnpj_emissor\",\n",
    "    \"cpf_responsavel\",\n",
    "    \"numero_documento\",\n",
    "    \"raiz_cnpj\",\n",
    "    \"filial_cnpj\",\n",
    "    \"dv_cnpj\",\n",
    "    \"descricao\",\n",
    "    \"observacao\",\n",
    "    \"data_emissao\",\n",
    "    \"data_vencimento\",\n",
    "    \"categoria\",\n",
    "    \"status\",\n",
    "    \"tipo_documento\",\n",
    "]\n"
   ]
  },
  {
   "cell_type": "code",
   "execution_count": 8,
   "id": "60e4c238",
   "metadata": {},
   "outputs": [],
   "source": [
    "y_counts = df[TARGET_COL].value_counts()\n",
    "valid_classes = y_counts[y_counts >= 5].index\n",
    "df = df[df[TARGET_COL].isin(valid_classes)]"
   ]
  },
  {
   "cell_type": "code",
   "execution_count": 9,
   "id": "06e4fc4e",
   "metadata": {},
   "outputs": [],
   "source": [
    "X = df.drop(columns=[col for col in drop_cols if col in df.columns] + [TARGET_COL])\n",
    "label_encoder = LabelEncoder()\n",
    "y = label_encoder.fit_transform(df[TARGET_COL])"
   ]
  },
  {
   "cell_type": "code",
   "execution_count": 10,
   "id": "554ebbdf",
   "metadata": {},
   "outputs": [],
   "source": [
    "numerical_cols = [\n",
    "    \"valor_total\",\n",
    "    \"numero_paginas\",\n",
    "    \"confianca_esperada\",\n",
    "    \"prazo_dias\",\n",
    "    \"tem_nota_fiscal\",\n",
    "    \"tem_imposto\",\n",
    "    \"tem_boleto\",\n",
    "    \"tem_recurso_juridico\",\n",
    "]\n",
    "for col in numerical_cols:\n",
    "    X[col] = pd.to_numeric(X[col], errors=\"coerce\")\n",
    "\n",
    "X[numerical_cols] = X[numerical_cols].fillna(X[numerical_cols].median())\n",
    "X[numerical_cols] = X[numerical_cols].fillna(0)\n",
    "assert not X[numerical_cols].isnull().any().any(), \"Ainda há NaNs nas colunas numéricas!\""
   ]
  },
  {
   "cell_type": "code",
   "execution_count": 11,
   "id": "0f83b00b",
   "metadata": {},
   "outputs": [],
   "source": [
    "preprocessor = ColumnTransformer([(\"num\", StandardScaler(), numerical_cols)])\n",
    "\n",
    "pipeline = Pipeline(\n",
    "    [\n",
    "        (\"preprocessor\", preprocessor),\n",
    "        (\"smote\", SMOTE(random_state=42)),  # SMOTE aplicado somente no treino dentro da pipeline\n",
    "        (\n",
    "            \"classifier\",\n",
    "            xgb.XGBClassifier(\n",
    "                use_label_encoder=False,\n",
    "                eval_metric=\"mlogloss\",\n",
    "                random_state=42,\n",
    "                n_jobs=-1,\n",
    "            ),\n",
    "        ),\n",
    "    ]\n",
    ")"
   ]
  },
  {
   "cell_type": "code",
   "execution_count": 12,
   "id": "2dd6acf7",
   "metadata": {},
   "outputs": [],
   "source": [
    "X_train, X_test, y_train, y_test = train_test_split(\n",
    "    X, y, test_size=0.2, stratify=y, random_state=42\n",
    ")\n"
   ]
  },
  {
   "cell_type": "code",
   "execution_count": 17,
   "id": "72e2e956",
   "metadata": {},
   "outputs": [],
   "source": [
    "from sklearn.model_selection import RandomizedSearchCV\n",
    "\n",
    "param_grid = {\n",
    "    \"classifier__n_estimators\": [100, 200],\n",
    "    \"classifier__max_depth\": [4, 6, 10],\n",
    "    \"classifier__learning_rate\": [0.05, 0.1],\n",
    "    \"classifier__subsample\": [0.8, 1],\n",
    "    \"classifier__colsample_bytree\": [0.8, 1],\n",
    "}\n",
    "\n",
    "random_search = RandomizedSearchCV(\n",
    "    pipeline,\n",
    "    param_distributions=param_grid,\n",
    "    n_iter=10,  # número de combinações aleatórias a testar\n",
    "    scoring=\"f1_macro\",\n",
    "    cv=3,  # reduzido de 5 para 3 para acelerar\n",
    "    verbose=2,\n",
    "    n_jobs=-1,\n",
    "    random_state=42,\n",
    ")"
   ]
  },
  {
   "cell_type": "code",
   "execution_count": 19,
   "id": "10f9f2b5",
   "metadata": {},
   "outputs": [
    {
     "name": "stderr",
     "output_type": "stream",
     "text": [
      "[2025-06-26 14:42:00,985] INFO - Iniciando RandomizedSearchCV com XGBoost e SMOTE...\n"
     ]
    },
    {
     "name": "stdout",
     "output_type": "stream",
     "text": [
      "Fitting 3 folds for each of 10 candidates, totalling 30 fits\n"
     ]
    },
    {
     "name": "stderr",
     "output_type": "stream",
     "text": [
      "c:\\Users\\guera\\Documentos\\agente-financeiro\\venv\\Lib\\site-packages\\xgboost\\training.py:183: UserWarning: [14:45:46] WARNING: C:\\actions-runner\\_work\\xgboost\\xgboost\\src\\learner.cc:738: \n",
      "Parameters: { \"use_label_encoder\" } are not used.\n",
      "\n",
      "  bst.update(dtrain, iteration=i, fobj=obj)\n",
      "[2025-06-26 14:46:00,705] INFO - Melhores parâmetros: {'classifier__subsample': 1, 'classifier__n_estimators': 200, 'classifier__max_depth': 4, 'classifier__learning_rate': 0.05, 'classifier__colsample_bytree': 1}\n",
      "[2025-06-26 14:46:00,706] INFO - Melhor F1 Macro (validação): 0.8578\n"
     ]
    }
   ],
   "source": [
    "logger.info(\"Iniciando RandomizedSearchCV com XGBoost e SMOTE...\")\n",
    "random_search.fit(X_train, y_train)\n",
    "logger.info(f\"Melhores parâmetros: {random_search.best_params_}\")\n",
    "logger.info(f\"Melhor F1 Macro (validação): {random_search.best_score_:.4f}\")\n"
   ]
  },
  {
   "cell_type": "code",
   "execution_count": 21,
   "id": "f63fb1fc",
   "metadata": {},
   "outputs": [
    {
     "name": "stdout",
     "output_type": "stream",
     "text": [
      "              precision    recall  f1-score   support\n",
      "\n",
      "    contábil       1.00      0.91      0.95     26147\n",
      "  financeiro       0.93      0.70      0.79     39474\n",
      "      fiscal       0.47      0.97      0.63     13156\n",
      "    jurídico       1.00      1.00      1.00     13101\n",
      "  tributário       0.99      0.85      0.92     13122\n",
      "\n",
      "    accuracy                           0.84    105000\n",
      "   macro avg       0.88      0.88      0.86    105000\n",
      "weighted avg       0.90      0.84      0.85    105000\n",
      "\n",
      "Acurácia: 0.8404\n",
      "F1-score macro: 0.8586\n"
     ]
    }
   ],
   "source": [
    "y_pred = random_search.predict(X_test)\n",
    "print(classification_report(y_test, y_pred, target_names=label_encoder.classes_))\n",
    "print(f\"Acurácia: {accuracy_score(y_test, y_pred):.4f}\")\n",
    "print(f\"F1-score macro: {f1_score(y_test, y_pred, average='macro'):.4f}\")"
   ]
  },
  {
   "cell_type": "code",
   "execution_count": 23,
   "id": "dc1d2ef3",
   "metadata": {},
   "outputs": [
    {
     "data": {
      "text/plain": [
       "<Figure size 800x600 with 0 Axes>"
      ]
     },
     "metadata": {},
     "output_type": "display_data"
    },
    {
     "data": {
      "image/png": "[encoded data removed]",
      "text/plain": [
       "<Figure size 640x480 with 2 Axes>"
      ]
     },
     "metadata": {},
     "output_type": "display_data"
    }
   ],
   "source": [
    "plt.figure(figsize=(8, 6))\n",
    "ConfusionMatrixDisplay.from_estimator(\n",
    "    random_search, X_test, y_test, display_labels=label_encoder.classes_, cmap=\"Blues\"\n",
    ")\n",
    "plt.title(\"Matriz de Confusão\")\n",
    "plt.xticks(rotation=45)\n",
    "plt.tight_layout()\n",
    "plt.show()\n",
    "\n"
   ]
  },
  {
   "cell_type": "code",
   "execution_count": 25,
   "id": "ec7ff0e3",
   "metadata": {},
   "outputs": [
    {
     "data": {
      "image/png": "[encoded data removed]",
      "text/plain": [
       "<Figure size 1000x600 with 1 Axes>"
      ]
     },
     "metadata": {},
     "output_type": "display_data"
    }
   ],
   "source": [
    "best_xgb = random_search.best_estimator_.named_steps[\"classifier\"]\n",
    "importances = best_xgb.feature_importances_\n",
    "feature_names = numerical_cols\n",
    "importances_df = pd.Series(importances, index=feature_names).sort_values(\n",
    "    ascending=False\n",
    ")\n",
    "plt.figure(figsize=(10, 6))\n",
    "sns.barplot(x=importances_df.values, y=importances_df.index)\n",
    "plt.title(\"Importância das Features - Melhor XGBoost\")\n",
    "plt.xlabel(\"Importância\")\n",
    "plt.tight_layout()\n",
    "plt.show()"
   ]
  },
  {
   "cell_type": "code",
   "execution_count": 26,
   "id": "90349290",
   "metadata": {},
   "outputs": [
    {
     "name": "stderr",
     "output_type": "stream",
     "text": [
      "[2025-06-26 14:51:27,489] INFO - Modelo + encoder salvos em ../models/xgb_pipeline_best.pkl\n"
     ]
    }
   ],
   "source": [
    "MODEL_PATH = \"../models/xgb_pipeline_best.pkl\"\n",
    "joblib.dump(\n",
    "    {\"model\": random_search.best_estimator_, \"label_encoder\": label_encoder}, MODEL_PATH\n",
    ")\n",
    "logger.info(f\"Modelo + encoder salvos em {MODEL_PATH}\")"
   ]
  }
 ],
 "metadata": {
  "kernelspec": {
   "display_name": "venv",
   "language": "python",
   "name": "python3"
  },
  "language_info": {
   "codemirror_mode": {
    "name": "ipython",
    "version": 3
   },
   "file_extension": ".py",
   "mimetype": "text/x-python",
   "name": "python",
   "nbconvert_exporter": "python",
   "pygments_lexer": "ipython3",
   "version": "3.12.7"
  }
 },
 "nbformat": 4,
 "nbformat_minor": 5
}
